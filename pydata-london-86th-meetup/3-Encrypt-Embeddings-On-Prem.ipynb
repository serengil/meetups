{
 "cells": [
  {
   "cell_type": "markdown",
   "metadata": {},
   "source": [
    "Let's generate a cryptosystem with random private - public key pair\n",
    "\n",
    "Then encrypt vector embeddings of facial images with this cryptosystem"
   ]
  },
  {
   "cell_type": "code",
   "execution_count": 3,
   "metadata": {},
   "outputs": [],
   "source": [
    "# built-in dependencies\n",
    "import os\n",
    "\n",
    "# 3rd party dependencies\n",
    "from deepface import DeepFace\n",
    "import tenseal as ts\n",
    "from tqdm import tqdm\n",
    "\n",
    "# project dependencies\n",
    "import utils"
   ]
  },
  {
   "cell_type": "markdown",
   "metadata": {},
   "source": [
    "### Build the cryptosystem"
   ]
  },
  {
   "cell_type": "markdown",
   "metadata": {},
   "source": [
    "<img src=\"figures/fhe-security-levels.webp\"/>"
   ]
  },
  {
   "cell_type": "markdown",
   "metadata": {},
   "source": [
    "<img src=\"figures/symmetric-and-public-key-security.webp\"/>"
   ]
  },
  {
   "cell_type": "code",
   "execution_count": 4,
   "metadata": {},
   "outputs": [],
   "source": [
    "# provides 128-bit security\n",
    "context = ts.context(\n",
    "    ts.SCHEME_TYPE.CKKS,\n",
    "    poly_modulus_degree = 8192, # n = 8192\n",
    "    coeff_mod_bit_sizes = [60, 40, 40, 60] # q = 60+40+40+60 = 200\n",
    ")\n",
    "\n",
    "# smaller q values result in stronger encryption\n",
    "# the first and last bit sizes (60 bits here) should always be the same.\n",
    "# The middle items (40 bits each in this case) should also be uniform for optimal performance.\n",
    "\n",
    "context.generate_galois_keys()\n",
    "context.global_scale = 2**40\n",
    "\n",
    "# alternative configuration for 128-bit security\n",
    "# context = ts.context(\n",
    "#     ts.SCHEME_TYPE.CKKS,\n",
    "#     poly_modulus_degree = 16384,\n",
    "#     coeff_mod_bit_sizes = [31, 60, 60, 60, 60, 60, 60, 31] # q = 31+60+60+60+60+60+60+31 = 422\n",
    "# )\n",
    "# context.generate_galois_keys()\n",
    "# context.global_scale = 2**60"
   ]
  },
  {
   "cell_type": "code",
   "execution_count": 5,
   "metadata": {},
   "outputs": [],
   "source": [
    "secret_context = context.serialize(save_secret_key = True)\n",
    "utils.write_data(\"secret.txt\", secret_context)"
   ]
  },
  {
   "cell_type": "code",
   "execution_count": 6,
   "metadata": {},
   "outputs": [],
   "source": [
    "context.make_context_public() #drop the secret_key from the context\n",
    "public_context = context.serialize()\n",
    "utils.write_data(\"public.txt\", public_context)"
   ]
  },
  {
   "cell_type": "code",
   "execution_count": 7,
   "metadata": {},
   "outputs": [],
   "source": [
    "del context, secret_context, public_context"
   ]
  },
  {
   "cell_type": "markdown",
   "metadata": {},
   "source": [
    "### Facial Database"
   ]
  },
  {
   "cell_type": "code",
   "execution_count": 8,
   "metadata": {},
   "outputs": [],
   "source": [
    "# https://github.com/serengil/deepface/tree/master/tests/dataset\n",
    "database = {\n",
    "    \"angelina\": \"../../deepface/tests/dataset/img1.jpg\",\n",
    "    \"jennifer\": \"../../deepface/tests/dataset/img3.jpg\",\n",
    "    \"scarlett\": \"../../deepface/tests/dataset/img9.jpg\",\n",
    "    \"mark\": \"../../deepface/tests/dataset/img13.jpg\",\n",
    "    \"jack\": \"../../deepface/tests/dataset/img16.jpg\",\n",
    "    \"elon\": \"../../deepface/tests/dataset/img18.jpg\",\n",
    "    \"jeff\": \"../../deepface/tests/dataset/img20.jpg\",\n",
    "    \"marissa\": \"../../deepface/tests/dataset/img22.jpg\",\n",
    "    \"matt\": \"../../deepface/tests/dataset/img29.jpg\",\n",
    "    \"leonardo\": \"../../deepface/tests/dataset/img35.jpg\",\n",
    "    \"george\": \"../../deepface/tests/dataset/img41.jpg\",\n",
    "    \"katy\": \"../../deepface/tests/dataset/img42.jpg\",\n",
    "\n",
    "}"
   ]
  },
  {
   "cell_type": "markdown",
   "metadata": {},
   "source": [
    "### Find Embeddings and Encrypt"
   ]
  },
  {
   "cell_type": "code",
   "execution_count": 9,
   "metadata": {},
   "outputs": [],
   "source": [
    "context = ts.context_from(utils.read_data(\"secret.txt\"))"
   ]
  },
  {
   "cell_type": "code",
   "execution_count": 10,
   "metadata": {},
   "outputs": [
    {
     "name": "stderr",
     "output_type": "stream",
     "text": [
      "100%|██████████| 12/12 [00:09<00:00,  1.29it/s]\n"
     ]
    }
   ],
   "source": [
    "for identity, img_path in tqdm(database.items()):\n",
    "    embedding = DeepFace.represent(img_path=img_path, model_name=\"Facenet\")[0][\"embedding\"]\n",
    "    encrypted_embedding = ts.ckks_vector(context, embedding)\n",
    "    encrypted_embedding_proto = encrypted_embedding.serialize()\n",
    "\n",
    "    utils.write_data(f\"database/{identity}.txt\", encrypted_embedding_proto)"
   ]
  },
  {
   "cell_type": "code",
   "execution_count": null,
   "metadata": {},
   "outputs": [],
   "source": []
  }
 ],
 "metadata": {
  "kernelspec": {
   "display_name": "sefik",
   "language": "python",
   "name": "python3"
  },
  "language_info": {
   "codemirror_mode": {
    "name": "ipython",
    "version": 3
   },
   "file_extension": ".py",
   "mimetype": "text/x-python",
   "name": "python",
   "nbconvert_exporter": "python",
   "pygments_lexer": "ipython3",
   "version": "3.8.12"
  }
 },
 "nbformat": 4,
 "nbformat_minor": 2
}
